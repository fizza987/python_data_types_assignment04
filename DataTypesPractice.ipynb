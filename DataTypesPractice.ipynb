{
 "cells": [
  {
   "cell_type": "code",
   "execution_count": null,
   "id": "3752028b",
   "metadata": {},
   "outputs": [
    {
     "name": "stdout",
     "output_type": "stream",
     "text": [
      "Age of Sara is: 18\n",
      "Birth of Year is: 2007\n",
      "Height of Sara is: 177\n"
     ]
    }
   ],
   "source": [
    "##Integer Example:\n",
    "\n",
    "age_of_sara = 18\n",
    "birth_of_year = 2007\n",
    "height_of_sara = 177\n",
    "\n",
    "print(\"Age of Sara is:\",age_of_sara)       #Age\n",
    "print(\"Birth of Year is:\" , birth_of_year) #Birth Year\n",
    "print(\"Height of Sara is:\",height_of_sara) #Height in cm\n",
    "\n"
   ]
  },
  {
   "cell_type": "code",
   "execution_count": 15,
   "id": "88c96c76",
   "metadata": {},
   "outputs": [
    {
     "name": "stdout",
     "output_type": "stream",
     "text": [
      "Country name is: Pakistan\n",
      "Favourite animal is: Dog\n"
     ]
    }
   ],
   "source": [
    "##String Example :\n",
    "\n",
    "country_name =\"Pakistan\"\n",
    "favourite_animal =\"Dog\"\n",
    "\n",
    "print(\"Country name is:\", country_name)\n",
    "print(\"Favourite animal is:\", favourite_animal)"
   ]
  },
  {
   "cell_type": "code",
   "execution_count": 17,
   "id": "7176f8e4",
   "metadata": {},
   "outputs": [
    {
     "name": "stdout",
     "output_type": "stream",
     "text": [
      "45.5\n",
      "32.2\n",
      "2.5\n"
     ]
    }
   ],
   "source": [
    "##Float Example :\n",
    "\n",
    "girl_weight = 45.5     #Weight in Kg\n",
    "room_temperature= 32.2 #Temperature in Celsius\n",
    "milk_quantity = 2.5    #Quantity in Liter\n",
    "print(girl_weight)\n",
    "print(room_temperature)\n",
    "print(milk_quantity)"
   ]
  },
  {
   "cell_type": "code",
   "execution_count": 21,
   "id": "2f2de57d",
   "metadata": {},
   "outputs": [
    {
     "name": "stdout",
     "output_type": "stream",
     "text": [
      "Is the school open: True\n",
      "Is the school close: False\n"
     ]
    }
   ],
   "source": [
    "##Boolean Example :\n",
    "\n",
    "#Boolean is used in a condition.\n",
    "is_the_school_open = True   #Condition\n",
    "is_the_school_close = False #Condition\n",
    "\n",
    "print(\"Is the school open:\", is_the_school_open)\n",
    "print(\"Is the school close:\", is_the_school_close)"
   ]
  }
 ],
 "metadata": {
  "kernelspec": {
   "display_name": "base",
   "language": "python",
   "name": "python3"
  },
  "language_info": {
   "codemirror_mode": {
    "name": "ipython",
    "version": 3
   },
   "file_extension": ".py",
   "mimetype": "text/x-python",
   "name": "python",
   "nbconvert_exporter": "python",
   "pygments_lexer": "ipython3",
   "version": "3.12.9"
  }
 },
 "nbformat": 4,
 "nbformat_minor": 5
}
